{
 "cells": [
  {
   "cell_type": "code",
   "execution_count": 23,
   "metadata": {},
   "outputs": [],
   "source": [
    "from vncorenlp import VnCoreNLP\n",
    "from utils import *\n",
    "import pandas as pd\n",
    "import json"
   ]
  },
  {
   "cell_type": "code",
   "execution_count": 2,
   "metadata": {},
   "outputs": [],
   "source": [
    "# Connect VncoreNLP server\n",
    "annotator = VnCoreNLP(address=\"http://127.0.0.1\", port=9000)\n",
    "\n",
    "# Get pattern\n",
    "pattern_path = '/Users/khanhnguyen/Document/QG/pattern/pattern.txt'\n",
    "with open(pattern_path, \"r\") as f:\n",
    "    patterns = f.read().split('\\n')"
   ]
  },
  {
   "cell_type": "code",
   "execution_count": 14,
   "metadata": {},
   "outputs": [],
   "source": [
    "def ques_gen(text):\n",
    "    annotated_text = annotator.annotate(text)\n",
    "    annotated_text = annotated_text['sentences']\n",
    "\n",
    "    # Format annotated_text to old version\n",
    "    tmp = {}\n",
    "    for i, at in enumerate(annotated_text):\n",
    "        tmp[i] = at\n",
    "    annotated_text = tmp\n",
    "\n",
    "    return question_generation(annotated_text, patterns)"
   ]
  },
  {
   "cell_type": "code",
   "execution_count": 20,
   "metadata": {},
   "outputs": [],
   "source": [
    "ntt_paragraphs_path = '/Users/khanhnguyen/Document/QG/dataset/NTT_ViQuAD_not_standard/NTT_paragraphs.xlsx'\n",
    "ntt_ps_xl = pd.ExcelFile(ntt_paragraphs_path)\n",
    "\n",
    "data = []\n",
    "for sheet_name in ntt_ps_xl.sheet_names:\n",
    "    df = ntt_ps_xl.parse(sheet_name)\n",
    "    for para in list(df['Context'].dropna()):\n",
    "        d = {\"paragraph\": \"\", \"type\": \"\", \"qa\": []}\n",
    "        d[\"type\"] = sheet_name\n",
    "        d[\"paragraph\"] = para\n",
    "        d[\"qa\"] = ques_gen(para)\n",
    "        data.append(d)"
   ]
  },
  {
   "cell_type": "code",
   "execution_count": 25,
   "metadata": {},
   "outputs": [],
   "source": [
    "# Save data as json\n",
    "ntt_viquad_not_standard = {\"version\": \"ntt_viquad_not_standard\", \"data\": data}\n",
    "with open(\"/Users/khanhnguyen/Document/QG/dataset/NTT_ViQuAD_not_standard/NTT_ViQuAD_not_standard.json\", \"w+\") as outfile:\n",
    "    json.dump(ntt_viquad_not_standard, outfile)"
   ]
  },
  {
   "cell_type": "code",
   "execution_count": 40,
   "metadata": {},
   "outputs": [],
   "source": [
    "data_test = data[:4]\n",
    "df_nested_list = pd.json_normalize(data_test, meta=['paragraph', ['qa', 'sentence'], 'type'], record_path =['qa', 'qas'],)\n",
    "df_nested_list.rename(columns = {'qa.sentence':'sentence'}, inplace = True)\n",
    "\n",
    "df_nested_list.to_excel('excel.xlsx', 'sheet1')"
   ]
  },
  {
   "cell_type": "code",
   "execution_count": 53,
   "metadata": {},
   "outputs": [],
   "source": [
    "df_data = pd.json_normalize(data, meta=['paragraph', ['qa', 'sentence'], 'type'], record_path =['qa', 'qas'])\n",
    "df_data.rename(columns = {'qa.sentence':'sentence'}, inplace = True)\n",
    "\n",
    "df_sheets = dict(tuple(df_data.groupby(\"type\")))\n",
    "\n",
    "# Write to excel\n",
    "writer = pd.ExcelWriter('/Users/khanhnguyen/Document/QG/dataset/NTT_ViQuAD_not_standard/NTT_ViQuAD.xlsx', engine='xlsxwriter')\n",
    "for sheet in df_sheets:\n",
    "    df = df_sheets[sheet].iloc[:, [3,4,0,1,2]]\n",
    "    df.to_excel(writer, sheet, index=False)\n",
    "\n",
    "writer.save()"
   ]
  },
  {
   "cell_type": "code",
   "execution_count": null,
   "metadata": {},
   "outputs": [],
   "source": [
    "# Get all paragraph\n",
    "paragraphs = [{\"paragraph\": \"\", \"type\": \"\"}, {\"paragraph\": \"\", \"type\": \"\"}]\n",
    "data = [{\"paragraph\": \"\", \"type\": \"\", \"qa\": []}, {\"paragraph\": \"\", \"type\": \"\", \"qa\": []}]"
   ]
  }
 ],
 "metadata": {
  "kernelspec": {
   "display_name": "Python 3.9.7 ('base')",
   "language": "python",
   "name": "python3"
  },
  "language_info": {
   "codemirror_mode": {
    "name": "ipython",
    "version": 3
   },
   "file_extension": ".py",
   "mimetype": "text/x-python",
   "name": "python",
   "nbconvert_exporter": "python",
   "pygments_lexer": "ipython3",
   "version": "3.9.7"
  },
  "orig_nbformat": 4,
  "vscode": {
   "interpreter": {
    "hash": "59a413c01de570d01c4d9d3d405fe1efc60b188843a6d3f891b128a719b9f6dc"
   }
  }
 },
 "nbformat": 4,
 "nbformat_minor": 2
}
